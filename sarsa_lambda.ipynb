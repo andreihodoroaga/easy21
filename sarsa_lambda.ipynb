{
 "cells": [
  {
   "cell_type": "code",
   "execution_count": null,
   "metadata": {},
   "outputs": [],
   "source": [
    "from env import *"
   ]
  },
  {
   "cell_type": "code",
   "execution_count": null,
   "metadata": {},
   "outputs": [],
   "source": [
    "# returns an epsilon greedy chosen action given the action-value function\n",
    "# N_0 is a constant, N_s is the dictionary containing how many times each state has been visited\n",
    "def epsilon_greedy(Q, N_0, N_s, state):\n",
    "    action_values = Q[state]\n",
    "    epsilon = N_0 / (N_0 + N_s.get(state, 0))\n",
    "\n",
    "    # the second check makes sure the algorithm chooses an action\n",
    "    # at random when the values are the same (rather than always choosing HIT)\n",
    "    if epsilon > random.uniform(0, 1) or action_values[0] == action_values[1]:\n",
    "        return random.choice([action.value for action in Action])\n",
    "\n",
    "    return max(action_values, key=lambda k: action_values[k])"
   ]
  },
  {
   "cell_type": "code",
   "execution_count": 24,
   "metadata": {},
   "outputs": [],
   "source": [
    "def sarsa_lambda(env: Env, _lambda=0, gamma=1,num_episodes=1000, N_0=100):\n",
    "  Q = initializeQ()\n",
    "  e = initializeQ() # e is also a dict initially with 0 for every (state, action) pair\n",
    "  N_s = {}\n",
    "  N_sa = {}\n",
    "  wins = 0\n",
    "\n",
    "  for i in range(num_episodes):\n",
    "    dealer_sum = NewCard(firstCard=True).get_value()\n",
    "    player_sum = NewCard(firstCard=True).get_value()\n",
    "    terminated = False\n",
    "    state = (dealer_sum, player_sum)\n",
    "    action = epsilon_greedy(Q, N_0, N_s, state)\n",
    "\n",
    "    while not terminated:\n",
    "      N_s[state] = N_s.get(state, 0) + 1\n",
    "      N_sa[(state, action)] = N_sa.get((state, action), 0) + 1\n",
    "\n",
    "      dealer_sum, player_sum, reward, terminated = env.step(\n",
    "        dealer_sum, player_sum, action\n",
    "      )\n",
    "      # selecting the next state and action\n",
    "      # TODO: here the dealer_sum and player_sum can become < 0\n",
    "      if terminated:\n",
    "        next_state_Q = 0\n",
    "      else:\n",
    "        new_state = (dealer_sum, player_sum)\n",
    "        new_action = epsilon_greedy(Q, N_0, N_s, new_state) # choosing a new action (a')\n",
    "        next_state_Q = Q[new_state][new_action]\n",
    "\n",
    "      delta = reward + _lambda * next_state_Q - Q[state][action] # td error\n",
    "      e[state][action] += 1\n",
    "\n",
    "      wins += reward == 1\n",
    "\n",
    "      for s in Q.keys():\n",
    "        for a in range(2):\n",
    "          alpha = 1 / N_sa.get((s, a), 1) # is 1 a good choice here?\n",
    "          Q[s][a] += alpha * delta * e[s][a]\n",
    "          e[s][a] = _lambda * gamma * e[s][a]\n",
    "\n",
    "      if not terminated:\n",
    "        state = new_state\n",
    "        action = new_action\n",
    "        \n",
    "    if i % (num_episodes / 10) == 0 and i > 0:\n",
    "      print(\"Episode: %d, score: %f\" % (i, (float(wins) / i * 100.0)))"
   ]
  },
  {
   "cell_type": "code",
   "execution_count": 25,
   "metadata": {},
   "outputs": [],
   "source": [
    "env = Env()"
   ]
  },
  {
   "cell_type": "code",
   "execution_count": 29,
   "metadata": {},
   "outputs": [
    {
     "name": "stdout",
     "output_type": "stream",
     "text": [
      "Episode: 10000, score: 46.960000\n",
      "Episode: 20000, score: 48.290000\n",
      "Episode: 30000, score: 48.826667\n",
      "Episode: 40000, score: 49.037500\n",
      "Episode: 50000, score: 49.430000\n",
      "Episode: 60000, score: 49.730000\n",
      "Episode: 70000, score: 49.822857\n",
      "Episode: 80000, score: 49.948750\n",
      "Episode: 90000, score: 50.051111\n"
     ]
    }
   ],
   "source": [
    "Q0 = sarsa_lambda(env, _lambda=0.5, num_episodes=100000)"
   ]
  }
 ],
 "metadata": {
  "kernelspec": {
   "display_name": "base",
   "language": "python",
   "name": "python3"
  },
  "language_info": {
   "codemirror_mode": {
    "name": "ipython",
    "version": 3
   },
   "file_extension": ".py",
   "mimetype": "text/x-python",
   "name": "python",
   "nbconvert_exporter": "python",
   "pygments_lexer": "ipython3",
   "version": "3.11.5"
  }
 },
 "nbformat": 4,
 "nbformat_minor": 2
}
